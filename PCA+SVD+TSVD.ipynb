{
 "cells": [
  {
   "cell_type": "code",
   "execution_count": null,
   "metadata": {
    "scrolled": true
   },
   "outputs": [],
   "source": [
    "import numpy as np\n",
    "import pandas as pd\n",
    "from scipy.linalg import svd"
   ]
  },
  {
   "cell_type": "markdown",
   "metadata": {},
   "source": [
    "# 参考：PCA的数学原理\n",
    "https://zhuanlan.zhihu.com/p/21580949"
   ]
  },
  {
   "cell_type": "code",
   "execution_count": 5,
   "metadata": {
    "scrolled": true
   },
   "outputs": [
    {
     "name": "stdout",
     "output_type": "stream",
     "text": [
      "(6, 3)\n",
      "[[ 1 -1  1]\n",
      " [ 2  1  2]\n",
      " [-3  2  1]\n",
      " [ 1  1  2]\n",
      " [ 2  1  3]\n",
      " [ 3  2  2]]\n"
     ]
    },
    {
     "data": {
      "text/plain": [
       "array([[ 0.        , -2.        , -0.83333333],\n",
       "       [ 1.        ,  0.        ,  0.16666667],\n",
       "       [-4.        ,  1.        , -0.83333333],\n",
       "       [ 0.        ,  0.        ,  0.16666667],\n",
       "       [ 1.        ,  0.        ,  1.16666667],\n",
       "       [ 2.        ,  1.        ,  0.16666667]])"
      ]
     },
     "execution_count": 5,
     "metadata": {},
     "output_type": "execute_result"
    }
   ],
   "source": [
    "# 默认 一行 为一个sample。 每列为一个属性\n",
    "X = np.array([[1, -1,1], [2, 1,2], [-3, 2,1], [1, 1,2], [2, 1,3], [3, 2,2]])\n",
    "print(X.shape)\n",
    "print(X)\n",
    "\n",
    "XC = X - np.mean(X, axis=0,keepdims=True)\n",
    "XC"
   ]
  },
  {
   "cell_type": "markdown",
   "metadata": {},
   "source": [
    "# PCA 计算协方差矩阵时会减去均值(协方差的定义) "
   ]
  },
  {
   "cell_type": "code",
   "execution_count": 6,
   "metadata": {
    "scrolled": true
   },
   "outputs": [
    {
     "name": "stdout",
     "output_type": "stream",
     "text": [
      "[[-3.89363683e-03  2.15908343e+00]\n",
      " [-1.00652522e+00 -7.41792536e-02]\n",
      " [ 4.16259569e+00 -6.02573962e-01]\n",
      " [-3.84422851e-02 -5.15002105e-02]\n",
      " [-1.23717893e+00 -3.83180516e-01]\n",
      " [-1.87655562e+00 -1.04764948e+00]]\n",
      "center:\n",
      "[[-3.89363683e-03  2.15908343e+00]\n",
      " [-1.00652522e+00 -7.41792536e-02]\n",
      " [ 4.16259569e+00 -6.02573962e-01]\n",
      " [-3.84422851e-02 -5.15002105e-02]\n",
      " [-1.23717893e+00 -3.83180516e-01]\n",
      " [-1.87655562e+00 -1.04764948e+00]]\n"
     ]
    }
   ],
   "source": [
    "import numpy as np\n",
    "from sklearn.decomposition import PCA\n",
    "\n",
    "# PCA 计算协方差矩阵时会减去均值(协方差的定义)。 \n",
    "#代码见376-378行(减均值+SVD)： https://github.com/scikit-learn/scikit-learn/blob/412996f/sklearn/decomposition/pca.py#L105\n",
    "pca = PCA(n_components=2)\n",
    "print(pca.fit_transform(X))\n",
    "\n",
    "print('center:')\n",
    "print(pca.fit_transform(XC))\n"
   ]
  },
  {
   "cell_type": "markdown",
   "metadata": {},
   "source": [
    "# X减去均值后进行SVD,结果才和PCA一样"
   ]
  },
  {
   "cell_type": "code",
   "execution_count": 70,
   "metadata": {
    "scrolled": true
   },
   "outputs": [
    {
     "name": "stdout",
     "output_type": "stream",
     "text": [
      "[[ 1.02138507 -0.92248091]\n",
      " [ 2.99927574  0.06586869]\n",
      " [-0.74717548  3.66377642]\n",
      " [ 2.3180092   0.73472539]\n",
      " [ 3.65822947  0.44918799]\n",
      " [ 3.99937748  0.03395549]]\n",
      "center:\n",
      "[[-3.89363683e-03  2.15908343e+00]\n",
      " [-1.00652522e+00 -7.41792536e-02]\n",
      " [ 4.16259569e+00 -6.02573962e-01]\n",
      " [-3.84422851e-02 -5.15002105e-02]\n",
      " [-1.23717893e+00 -3.83180516e-01]\n",
      " [-1.87655562e+00 -1.04764948e+00]]\n"
     ]
    }
   ],
   "source": [
    "# Truncte SVD\n",
    "from sklearn.decomposition import TruncatedSVD\n",
    "# tsvd 使用svd 来实现：https://github.com/scikit-learn/scikit-learn/blob/412996f/sklearn/decomposition/truncated_svd.py#L25\n",
    "\n",
    "tsvd = TruncatedSVD(2)\n",
    "print(tsvd.fit_transform(X))\n",
    "print('center:')\n",
    "print(tsvd.fit_transform(XC))"
   ]
  },
  {
   "cell_type": "markdown",
   "metadata": {},
   "source": [
    "# TruncatedSVD 可由SVD 得到。 取前n个奇异值对应的奇异向量"
   ]
  },
  {
   "cell_type": "code",
   "execution_count": 71,
   "metadata": {
    "scrolled": true
   },
   "outputs": [
    {
     "name": "stdout",
     "output_type": "stream",
     "text": [
      "(6, 3) (3,) (3, 3)\n",
      "[[-1.02138507 -0.92248091]\n",
      " [-2.99927574  0.06586869]\n",
      " [ 0.74717548  3.66377642]\n",
      " [-2.3180092   0.73472539]\n",
      " [-3.65822947  0.44918799]\n",
      " [-3.99937748  0.03395549]]\n",
      "center:\n",
      "(6, 3) (3,) (3, 3)\n",
      "[[-3.89363683e-03 -2.15908343e+00]\n",
      " [-1.00652522e+00  7.41792536e-02]\n",
      " [ 4.16259569e+00  6.02573962e-01]\n",
      " [-3.84422851e-02  5.15002105e-02]\n",
      " [-1.23717893e+00  3.83180516e-01]\n",
      " [-1.87655562e+00  1.04764948e+00]]\n"
     ]
    }
   ],
   "source": [
    "# SVD\n",
    "from scipy.linalg import svd\n",
    "def hand_tsvd(X):\n",
    "    U, S, V = svd(X, full_matrices=False)\n",
    "    print(U.shape, S.shape, V.shape)\n",
    "\n",
    "    U2=U[:,:2]\n",
    "    S2=np.diag(S[:2])\n",
    "    V2=V[:2,:]\n",
    "    print(np.dot(U2 , S2))\n",
    "\n",
    "hand_tsvd(X)\n",
    "print('center:')\n",
    "hand_tsvd(XC)"
   ]
  },
  {
   "cell_type": "code",
   "execution_count": null,
   "metadata": {
    "scrolled": true
   },
   "outputs": [],
   "source": []
  }
 ],
 "metadata": {
  "celltoolbar": "Attachments",
  "kernelspec": {
   "display_name": "Python 3",
   "language": "python",
   "name": "python3"
  },
  "language_info": {
   "codemirror_mode": {
    "name": "ipython",
    "version": 3
   },
   "file_extension": ".py",
   "mimetype": "text/x-python",
   "name": "python",
   "nbconvert_exporter": "python",
   "pygments_lexer": "ipython3",
   "version": "3.5.1"
  },
  "widgets": {
   "application/vnd.jupyter.widget-state+json": {
    "state": {},
    "version_major": 2,
    "version_minor": 0
   }
  }
 },
 "nbformat": 4,
 "nbformat_minor": 2
}
