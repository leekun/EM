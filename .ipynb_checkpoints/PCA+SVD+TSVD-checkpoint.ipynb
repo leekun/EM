{
 "cells": [
  {
   "cell_type": "code",
   "execution_count": 2,
   "metadata": {
    "ExecuteTime": {
     "end_time": "2018-08-17T06:26:38.798548Z",
     "start_time": "2018-08-17T06:26:37.673221Z"
    },
    "collapsed": true,
    "scrolled": true
   },
   "outputs": [],
   "source": [
    "import numpy as np\n",
    "import pandas as pd\n",
    "from scipy.linalg import svd"
   ]
  },
  {
   "cell_type": "markdown",
   "metadata": {},
   "source": [
    "# 参考：PCA的数学原理\n",
    "\n",
    "http://blog.codinglabs.org/articles/pca-tutorial.html"
   ]
  },
  {
   "cell_type": "code",
   "execution_count": 3,
   "metadata": {
    "ExecuteTime": {
     "end_time": "2018-08-17T06:26:40.558848Z",
     "start_time": "2018-08-17T06:26:40.526910Z"
    },
    "scrolled": true
   },
   "outputs": [
    {
     "name": "stdout",
     "output_type": "stream",
     "text": [
      "(6, 3)\n",
      "[[ 1 -1  1]\n",
      " [ 2  1  2]\n",
      " [-3  2  1]\n",
      " [ 1  1  2]\n",
      " [ 2  1  3]\n",
      " [ 3  2  2]]\n"
     ]
    },
    {
     "data": {
      "text/plain": [
       "array([[ 0.        , -2.        , -0.83333333],\n",
       "       [ 1.        ,  0.        ,  0.16666667],\n",
       "       [-4.        ,  1.        , -0.83333333],\n",
       "       [ 0.        ,  0.        ,  0.16666667],\n",
       "       [ 1.        ,  0.        ,  1.16666667],\n",
       "       [ 2.        ,  1.        ,  0.16666667]])"
      ]
     },
     "execution_count": 3,
     "metadata": {},
     "output_type": "execute_result"
    }
   ],
   "source": [
    "# 默认 一行 为一个sample。 每列为一个属性\n",
    "X = np.array([[1, -1,1], [2, 1,2], [-3, 2,1], [1, 1,2], [2, 1,3], [3, 2,2]])\n",
    "print(X.shape)\n",
    "print(X)\n",
    "\n",
    "XC = X - np.mean(X, axis=0,keepdims=True)\n",
    "XC"
   ]
  },
  {
   "cell_type": "markdown",
   "metadata": {},
   "source": [
    "# PCA 计算协方差矩阵时会减去均值(协方差的定义) "
   ]
  },
  {
   "cell_type": "code",
   "execution_count": 8,
   "metadata": {
    "ExecuteTime": {
     "end_time": "2018-08-17T06:59:55.572443Z",
     "start_time": "2018-08-17T06:59:55.559116Z"
    },
    "scrolled": true
   },
   "outputs": [
    {
     "name": "stdout",
     "output_type": "stream",
     "text": [
      "[[-3.89363683e-03  2.15908343e+00]\n",
      " [-1.00652522e+00 -7.41792536e-02]\n",
      " [ 4.16259569e+00 -6.02573962e-01]\n",
      " [-3.84422851e-02 -5.15002105e-02]\n",
      " [-1.23717893e+00 -3.83180516e-01]\n",
      " [-1.87655562e+00 -1.04764948e+00]]\n",
      "center:\n",
      "[[-3.89363683e-03  2.15908343e+00]\n",
      " [-1.00652522e+00 -7.41792536e-02]\n",
      " [ 4.16259569e+00 -6.02573962e-01]\n",
      " [-3.84422851e-02 -5.15002105e-02]\n",
      " [-1.23717893e+00 -3.83180516e-01]\n",
      " [-1.87655562e+00 -1.04764948e+00]]\n"
     ]
    }
   ],
   "source": [
    "import numpy as np\n",
    "from sklearn.decomposition import PCA\n",
    "\n",
    "# PCA 计算协方差矩阵时会减去均值(协方差的定义)。 \n",
    "#代码见376-378行(减均值+SVD)： https://github.com/scikit-learn/scikit-learn/blob/412996f/sklearn/decomposition/pca.py#L105\n",
    "\n",
    "# 默认一行是一个样本，列是特征。 PCA降为降的是行的维度\n",
    "pca = PCA(n_components=2)\n",
    "print(pca.fit_transform(X))\n",
    "\n",
    "print('center:')\n",
    "print(pca.fit_transform(XC))\n"
   ]
  },
  {
   "cell_type": "markdown",
   "metadata": {},
   "source": [
    "# X减去均值后进行SVD,结果才和PCA一样"
   ]
  },
  {
   "cell_type": "code",
   "execution_count": 7,
   "metadata": {
    "ExecuteTime": {
     "end_time": "2018-08-17T06:59:49.657334Z",
     "start_time": "2018-08-17T06:59:49.643089Z"
    },
    "scrolled": true
   },
   "outputs": [
    {
     "name": "stdout",
     "output_type": "stream",
     "text": [
      "[[ 1.02138507 -0.92248091]\n",
      " [ 2.99927574  0.06586869]\n",
      " [-0.74717548  3.66377642]\n",
      " [ 2.3180092   0.73472539]\n",
      " [ 3.65822947  0.44918799]\n",
      " [ 3.99937748  0.03395549]]\n",
      "center:\n",
      "[[-3.89363683e-03  2.15908343e+00]\n",
      " [-1.00652522e+00 -7.41792536e-02]\n",
      " [ 4.16259569e+00 -6.02573962e-01]\n",
      " [-3.84422851e-02 -5.15002105e-02]\n",
      " [-1.23717893e+00 -3.83180516e-01]\n",
      " [-1.87655562e+00 -1.04764948e+00]]\n"
     ]
    }
   ],
   "source": [
    "# Truncte SVD\n",
    "from sklearn.decomposition import TruncatedSVD\n",
    "# tsvd 使用svd 来实现：https://github.com/scikit-learn/scikit-learn/blob/412996f/sklearn/decomposition/truncated_svd.py#L25\n",
    "\n",
    "\n",
    "# 默认一行是一个样本，列是特征。 PCA降为降的是行的维度\n",
    "tsvd = TruncatedSVD(2)\n",
    "print(tsvd.fit_transform(X))\n",
    "print('center:')\n",
    "print(tsvd.fit_transform(XC))"
   ]
  },
  {
   "cell_type": "markdown",
   "metadata": {},
   "source": [
    "# TruncatedSVD 可由SVD 得到。 取前n个奇异值对应的奇异向量\n",
    "\n",
    "注意：https://stats.stackexchange.com/questions/134282/relationship-between-svd-and-pca-how-to-use-svd-to-perform-pca\n",
    "svd 的实现有符号的问题，可见下面的结果：http://amsword.is-programmer.com/posts/35966.html\n",
    "\n",
    "http://www.kolda.net/publication/bracko08/\n",
    "\n",
    "http://forums.fast.ai/t/svd-sign-ambiguity-for-pca-determinism/12480\n",
    "\n",
    "具体实现：https://github.com/scikit-learn/scikit-learn/blob/master/sklearn/utils/extmath.py#L499\n"
   ]
  },
  {
   "cell_type": "code",
   "execution_count": 64,
   "metadata": {
    "ExecuteTime": {
     "end_time": "2018-08-17T08:16:37.682437Z",
     "start_time": "2018-08-17T08:16:37.644718Z"
    }
   },
   "outputs": [
    {
     "name": "stdout",
     "output_type": "stream",
     "text": [
      "[[-8.05015     8.6175411   1.6796562 ]\n",
      " [-2.0810077   2.960713    8.888654  ]\n",
      " [ 8.60623642  2.40505     5.9729112 ]\n",
      " [-7.94800694  2.05552    -1.42645168]\n",
      " [-2.55788819  1.52938    -7.6698446 ]\n",
      " [-3.8798102   4.18147     5.9304835 ]]\n",
      "[[-0.96808293  0.09805253 -0.23065371]\n",
      " [ 0.02267904  0.95079119  0.30900126]\n",
      " [ 0.24960187  0.29390784 -0.92266846]]\n"
     ]
    },
    {
     "data": {
      "text/plain": [
       "array([2, 0, 1])"
      ]
     },
     "execution_count": 64,
     "metadata": {},
     "output_type": "execute_result"
    }
   ],
   "source": [
    "\n",
    "def sign_flip(u,v):\n",
    "    max_abs_cols = np.argmax(np.abs(u), axis=0)\n",
    "    #print(max_abs_cols)\n",
    "    signs = np.sign(u[max_abs_cols, range(u.shape[1])])\n",
    "    u *= signs\n",
    "    v *= signs[:, np.newaxis]\n",
    "    return u,v\n",
    "u = np.array([[-8.05015,8.6175411, -1.6796562],\n",
    " [-2.0810077,  2.960713, -8.8886540],\n",
    " [ 8.60623642,  2.40505, -5.9729112],\n",
    " [-7.94800694,  2.05552,  1.42645168],\n",
    " [-2.55788819,  1.52938,  7.6698446],\n",
    " [-3.8798102,  4.18147, -5.9304835]])\n",
    "v = np.array([[-0.96808293,  0.09805253, -0.23065371],\n",
    " [ 0.02267904,  0.95079119,  0.30900126],\n",
    " [-0.24960187, -0.29390784,  0.92266846]])\n",
    "u,v = sign_flip(u,v)\n",
    "print(u)\n",
    "print(v)\n",
    "np.argmax(np.abs(u), axis=0)"
   ]
  },
  {
   "cell_type": "code",
   "execution_count": 67,
   "metadata": {
    "ExecuteTime": {
     "end_time": "2018-08-17T08:19:23.811107Z",
     "start_time": "2018-08-17T08:19:23.753295Z"
    },
    "scrolled": true
   },
   "outputs": [
    {
     "name": "stdout",
     "output_type": "stream",
     "text": [
      "center:\n",
      "[4.83672013 2.5054517  1.07804617]\n",
      "(6, 3) (3,) (3, 3)\n",
      "(6, 3) (3,) (3, 3)\n",
      "[[-3.89363683e-03  2.15908343e+00]\n",
      " [-1.00652522e+00 -7.41792536e-02]\n",
      " [ 4.16259569e+00 -6.02573962e-01]\n",
      " [-3.84422851e-02 -5.15002105e-02]\n",
      " [-1.23717893e+00 -3.83180516e-01]\n",
      " [-1.87655562e+00 -1.04764948e+00]]\n",
      "[[-3.89363683e-03  2.15908343e+00]\n",
      " [-1.00652522e+00 -7.41792536e-02]\n",
      " [ 4.16259569e+00 -6.02573962e-01]\n",
      " [-3.84422851e-02 -5.15002105e-02]\n",
      " [-1.23717893e+00 -3.83180516e-01]\n",
      " [-1.87655562e+00 -1.04764948e+00]]\n"
     ]
    }
   ],
   "source": [
    "# SVD\n",
    "from scipy.linalg import svd\n",
    "def hand_tsvd(X):\n",
    "    U, S, V = svd(X, full_matrices=False)\n",
    "    #U, S, V = svd(X)\n",
    "    print(S)\n",
    "    print(U.shape, S.shape, V.shape)\n",
    "    \n",
    "    # 处理符号问题, 保证U的行向量（V的列向量），每个向量中最大绝对值的量是正的。 （稳定的输出）\n",
    "    # 需要以U或者V中一个作为基准，如将U作为基准，则若U的一行变了符号，那么对应V的一列符号也要变。\n",
    "    # 参考：https://github.com/scikit-learn/scikit-learn/blob/master/sklearn/utils/extmath.py#L499\n",
    "\n",
    "    U,V = sign_flip(U,V)\n",
    "    print(U.shape, S.shape, V.shape)\n",
    "\n",
    "    # 复原\n",
    "    #print(np.dot(U,np.dot(np.diag(S), V)))\n",
    "    \n",
    "    # 转换1\n",
    "    U2=U[:,:2]\n",
    "    S2=np.diag(S[:2])\n",
    "    \n",
    "    print(np.dot(U2 , S2))\n",
    "    \n",
    "    # 转换2\n",
    "    V1 = V.T\n",
    "    V2 = V1[:,:2]\n",
    "    print(np.dot(X, V2))\n",
    "\n",
    "#hand_tsvd(X)\n",
    "print('center:')\n",
    "hand_tsvd(XC)"
   ]
  },
  {
   "cell_type": "code",
   "execution_count": null,
   "metadata": {
    "collapsed": true
   },
   "outputs": [],
   "source": []
  }
 ],
 "metadata": {
  "celltoolbar": "Attachments",
  "kernelspec": {
   "display_name": "Python 3",
   "language": "python",
   "name": "python3"
  },
  "language_info": {
   "codemirror_mode": {
    "name": "ipython",
    "version": 3
   },
   "file_extension": ".py",
   "mimetype": "text/x-python",
   "name": "python",
   "nbconvert_exporter": "python",
   "pygments_lexer": "ipython3",
   "version": "3.6.3"
  },
  "toc": {
   "nav_menu": {},
   "number_sections": true,
   "sideBar": true,
   "skip_h1_title": false,
   "toc_cell": false,
   "toc_position": {
    "height": "416px",
    "left": "0px",
    "right": "896.4px",
    "top": "108px",
    "width": "114px"
   },
   "toc_section_display": "block",
   "toc_window_display": true
  },
  "widgets": {
   "application/vnd.jupyter.widget-state+json": {
    "state": {},
    "version_major": 2,
    "version_minor": 0
   }
  }
 },
 "nbformat": 4,
 "nbformat_minor": 2
}
