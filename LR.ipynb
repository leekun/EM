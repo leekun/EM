{
 "cells": [
  {
   "cell_type": "markdown",
   "metadata": {},
   "source": [
    "# LR 模型的简单实现"
   ]
  },
  {
   "cell_type": "code",
   "execution_count": 37,
   "metadata": {
    "ExecuteTime": {
     "end_time": "2018-08-28T01:42:03.206731Z",
     "start_time": "2018-08-28T01:42:03.202008Z"
    },
    "collapsed": true
   },
   "outputs": [],
   "source": [
    "import numpy as np\n",
    "import scipy \n",
    "import random\n",
    "from sklearn import cross_validation,metrics\n",
    "from sklearn.metrics import *"
   ]
  },
  {
   "cell_type": "code",
   "execution_count": 156,
   "metadata": {
    "ExecuteTime": {
     "end_time": "2018-08-28T02:30:48.736644Z",
     "start_time": "2018-08-28T02:30:48.467854Z"
    }
   },
   "outputs": [],
   "source": [
    "class LR():\n",
    "    def __init__(self, lr = 0.01, L1=None, L2=None):\n",
    "        self.W = None\n",
    "        self.b = None\n",
    "        self.epsilon = 0.001\n",
    "        self.L1_W = L1\n",
    "        self.L2_W = L2\n",
    "        self.X = None\n",
    "        self.y = None\n",
    "        self.y_hat = None\n",
    "        self.lr = lr\n",
    "        self.W_gred = None\n",
    "        \n",
    "    def sigmoid(self, X):\n",
    "        return 1/(1 + np.exp(-X))\n",
    "    \n",
    "    \n",
    "    def get_coef(self):\n",
    "        return self.W, self.b\n",
    "    \n",
    "    def _get_gred(self):\n",
    "        m  = self.X.shape[0]\n",
    "        y_diff =  self.y_hat - self.y \n",
    "        W_gred = np.sum(y_diff*self.X, axis=0,keepdims=True)  / m\n",
    "        W_gred = W_gred.T\n",
    "\n",
    "        b_gred = np.sum(y_diff) / m\n",
    "        self.W_gred = W_gred\n",
    "        return W_gred, b_gred\n",
    "    \n",
    "    def _init_param(self):\n",
    "        self.W = np.random.random((self.X.shape[1],1)) \n",
    "        self.b = 0\n",
    "    \n",
    "    def predict_prob(self,X):\n",
    "        wx_b = np.dot(X , self.W) + self.b\n",
    "        return self.sigmoid(wx_b).reshape(X.shape[0])\n",
    "    \n",
    "    def fit(self, X, y):\n",
    "        # 初始化参数\n",
    "        self.X = X\n",
    "        self.y = y\n",
    "        self.y = self.y.reshape(y.shape[0],1)\n",
    "        self._init_param()\n",
    "        \n",
    "        wx_b = np.dot(self.X , self.W) + self.b # n*m m*1\n",
    "        self.y_hat = self.sigmoid(wx_b)\n",
    "        \n",
    "        W_gred, b_gred = self._get_gred()\n",
    "        i = 0\n",
    "        #while(max(abs(W_gred)) > self.epsilon): # 迭代\n",
    "        while i < 1000:\n",
    "\n",
    "            if self.L2_W != None:\n",
    "                self.W = self.W  - self.lr * W_gred - self.L2_W*self.W\n",
    "                self.b = self.b - self.lr * b_gred \n",
    "            else:                  \n",
    "                self.W = self.W  - self.lr * W_gred\n",
    "                self.b = self.b - self.lr * b_gred\n",
    "            \n",
    "            wx_b = np.dot(self.X , self.W) + self.b # n*m m*1\n",
    "\n",
    "            self.y_hat = self.sigmoid(wx_b)\n",
    "            \n",
    "            W_gred, b_gred = self._get_gred()\n",
    "            i += 1\n",
    "        print(i)"
   ]
  },
  {
   "cell_type": "code",
   "execution_count": 157,
   "metadata": {
    "ExecuteTime": {
     "end_time": "2018-08-28T02:30:49.706577Z",
     "start_time": "2018-08-28T02:30:49.633757Z"
    }
   },
   "outputs": [
    {
     "name": "stdout",
     "output_type": "stream",
     "text": [
      "1000\n"
     ]
    }
   ],
   "source": [
    "#mlr = LR(L2=0.01)\n",
    "mlr = LR()\n",
    "\n",
    "mlr.fit(X_train, y_train)"
   ]
  },
  {
   "cell_type": "code",
   "execution_count": 158,
   "metadata": {
    "ExecuteTime": {
     "end_time": "2018-08-28T02:30:50.743419Z",
     "start_time": "2018-08-28T02:30:50.737339Z"
    }
   },
   "outputs": [
    {
     "data": {
      "text/plain": [
       "(array([[-0.71424969],\n",
       "        [-0.71515877],\n",
       "        [ 1.15594849],\n",
       "        [ 0.89451808]]), -0.3545782218028741)"
      ]
     },
     "execution_count": 158,
     "metadata": {},
     "output_type": "execute_result"
    }
   ],
   "source": [
    "mlr.get_coef()"
   ]
  },
  {
   "cell_type": "code",
   "execution_count": 159,
   "metadata": {
    "ExecuteTime": {
     "end_time": "2018-08-28T02:30:52.784313Z",
     "start_time": "2018-08-28T02:30:52.778421Z"
    }
   },
   "outputs": [
    {
     "data": {
      "text/plain": [
       "array([[ 0.03895946],\n",
       "       [ 0.02847051],\n",
       "       [-0.05544449],\n",
       "       [-0.04478569]])"
      ]
     },
     "execution_count": 159,
     "metadata": {},
     "output_type": "execute_result"
    }
   ],
   "source": [
    "mlr.W_gred"
   ]
  },
  {
   "cell_type": "code",
   "execution_count": 160,
   "metadata": {
    "ExecuteTime": {
     "end_time": "2018-08-28T02:30:55.127489Z",
     "start_time": "2018-08-28T02:30:55.120020Z"
    }
   },
   "outputs": [
    {
     "data": {
      "text/plain": [
       "0.9919786096256684"
      ]
     },
     "execution_count": 160,
     "metadata": {},
     "output_type": "execute_result"
    }
   ],
   "source": [
    "m_y_test_hat = mlr.predict_prob(X_test)\n",
    "metrics.roc_auc_score(y_test, m_y_test_hat)"
   ]
  },
  {
   "cell_type": "code",
   "execution_count": 161,
   "metadata": {
    "ExecuteTime": {
     "end_time": "2018-08-28T02:30:56.904066Z",
     "start_time": "2018-08-28T02:30:56.898172Z"
    }
   },
   "outputs": [
    {
     "name": "stdout",
     "output_type": "stream",
     "text": [
      "[0.824, 0.333, 0.004, 0.777, 0.012, 0.876, 0.009, 0.358, 0.398, 0.283, 0.76, 0.338, 0.448, 0.416, 0.475, 0.014, 0.457, 0.504, 0.017, 0.006, 0.75, 0.511, 0.021, 0.022, 0.592, 0.008, 0.015, 0.327, 0.297, 0.016, 0.695, 0.547, 0.009, 0.603, 0.82, 0.441, 0.007, 0.68, 0.373, 0.341, 0.707, 0.013, 0.611, 0.017, 0.007]\n"
     ]
    }
   ],
   "source": [
    "print([round(x,3) for x in m_y_test_hat.tolist()])"
   ]
  },
  {
   "cell_type": "code",
   "execution_count": 162,
   "metadata": {
    "ExecuteTime": {
     "end_time": "2018-08-28T02:30:59.158772Z",
     "start_time": "2018-08-28T02:30:59.152234Z"
    }
   },
   "outputs": [
    {
     "data": {
      "text/plain": [
       "array([1, 0, 0, 1, 0, 1, 0, 0, 0, 0, 1, 0, 0, 0, 0, 0, 0, 0, 0, 0, 1, 0,\n",
       "       0, 0, 1, 0, 0, 0, 0, 0, 1, 0, 0, 1, 1, 0, 0, 0, 0, 0, 1, 0, 1, 0,\n",
       "       0])"
      ]
     },
     "execution_count": 162,
     "metadata": {},
     "output_type": "execute_result"
    }
   ],
   "source": [
    "y_test"
   ]
  },
  {
   "cell_type": "code",
   "execution_count": 163,
   "metadata": {
    "ExecuteTime": {
     "end_time": "2018-08-28T02:31:00.582507Z",
     "start_time": "2018-08-28T02:31:00.574893Z"
    }
   },
   "outputs": [
    {
     "data": {
      "text/plain": [
       "array([0.82382927, 0.33289649, 0.00411339, 0.77730794, 0.01160622,\n",
       "       0.87627417, 0.00939821, 0.35840163, 0.39818279, 0.28347719,\n",
       "       0.76037249, 0.33833139, 0.44829394, 0.41568667, 0.47497629,\n",
       "       0.01409112, 0.45748008, 0.50430758, 0.01726311, 0.00582297,\n",
       "       0.74957797, 0.5109214 , 0.02105555, 0.02244458, 0.59225962,\n",
       "       0.00754089, 0.01535643, 0.32663708, 0.29701691, 0.01551912,\n",
       "       0.69531379, 0.54650085, 0.00938786, 0.60283758, 0.8195099 ,\n",
       "       0.44051287, 0.00731899, 0.68038925, 0.37346814, 0.34086911,\n",
       "       0.70666724, 0.01314576, 0.61131322, 0.01724811, 0.00707008])"
      ]
     },
     "execution_count": 163,
     "metadata": {},
     "output_type": "execute_result"
    }
   ],
   "source": [
    "m_y_test_hat"
   ]
  },
  {
   "cell_type": "markdown",
   "metadata": {},
   "source": [
    "## sklearn-标准的结果"
   ]
  },
  {
   "cell_type": "code",
   "execution_count": 111,
   "metadata": {
    "ExecuteTime": {
     "end_time": "2018-08-28T02:25:21.818088Z",
     "start_time": "2018-08-28T02:25:21.787076Z"
    }
   },
   "outputs": [
    {
     "name": "stderr",
     "output_type": "stream",
     "text": [
      "/usr/local/lib/python3.6/site-packages/sklearn/linear_model/sag.py:286: ConvergenceWarning: The max_iter was reached which means the coef_ did not converge\n",
      "  \"the coef_ did not converge\", ConvergenceWarning)\n"
     ]
    },
    {
     "data": {
      "text/plain": [
       "LogisticRegression(C=1.0, class_weight=None, dual=False, fit_intercept=True,\n",
       "          intercept_scaling=1, max_iter=100, multi_class='ovr', n_jobs=1,\n",
       "          penalty='l2', random_state=None, solver='sag', tol=0.0001,\n",
       "          verbose=0, warm_start=False)"
      ]
     },
     "execution_count": 111,
     "metadata": {},
     "output_type": "execute_result"
    }
   ],
   "source": [
    "from sklearn.datasets import load_iris\n",
    "iris=load_iris()\n",
    "X=iris.data\n",
    "y=iris.target\n",
    "y = y//2\n",
    "from sklearn.cross_validation import train_test_split\n",
    "X_train, X_test, y_train, y_test = train_test_split(X, y, test_size=0.3, random_state=0) \n",
    "from sklearn.linear_model import LogisticRegression\n",
    "lr = LogisticRegression(solver='sag')\n",
    "lr.fit(X_train, y_train)\n"
   ]
  },
  {
   "cell_type": "code",
   "execution_count": 112,
   "metadata": {
    "ExecuteTime": {
     "end_time": "2018-08-28T02:25:24.218671Z",
     "start_time": "2018-08-28T02:25:24.212515Z"
    }
   },
   "outputs": [],
   "source": [
    "y_test_hat = lr.predict_proba(X_test) # 查看第一个测试样本属于各个类别的概率\n",
    "y_test_hat = y_test_hat[:,1]"
   ]
  },
  {
   "cell_type": "code",
   "execution_count": 113,
   "metadata": {
    "ExecuteTime": {
     "end_time": "2018-08-28T02:25:25.505819Z",
     "start_time": "2018-08-28T02:25:25.499752Z"
    }
   },
   "outputs": [
    {
     "data": {
      "text/plain": [
       "array([1, 0, 0, 1, 0, 1, 0, 0, 0, 0, 1, 0, 0, 0, 0, 0, 0, 0, 0, 0, 1, 0,\n",
       "       0, 0, 1, 0, 0, 0, 0, 0, 1, 0, 0, 1, 1, 0, 0, 0, 0, 0, 1, 0, 1, 0,\n",
       "       0])"
      ]
     },
     "execution_count": 113,
     "metadata": {},
     "output_type": "execute_result"
    }
   ],
   "source": [
    "y_test"
   ]
  },
  {
   "cell_type": "code",
   "execution_count": 114,
   "metadata": {
    "ExecuteTime": {
     "end_time": "2018-08-28T02:25:27.673162Z",
     "start_time": "2018-08-28T02:25:27.666176Z"
    }
   },
   "outputs": [
    {
     "data": {
      "text/plain": [
       "array([9.46564432e-01, 9.96477557e-02, 1.10835263e-05, 9.17665359e-01,\n",
       "       6.39082963e-05, 9.82693473e-01, 4.33688195e-05, 1.95256521e-01,\n",
       "       2.30978002e-01, 8.60580667e-02, 8.69767874e-01, 1.69843454e-01,\n",
       "       2.94948707e-01, 2.54720231e-01, 3.59034136e-01, 8.19334501e-05,\n",
       "       3.25934208e-01, 3.63259903e-01, 1.21478600e-04, 2.01732111e-05,\n",
       "       8.67537416e-01, 4.31288501e-01, 2.21056829e-04, 1.92005563e-04,\n",
       "       6.02259361e-01, 2.70839428e-05, 1.43802497e-04, 1.32416216e-01,\n",
       "       6.84486265e-02, 1.20666769e-04, 8.20472093e-01, 4.99920160e-01,\n",
       "       4.37580439e-05, 6.43182659e-01, 9.45688064e-01, 2.57121926e-01,\n",
       "       3.18196313e-05, 7.54524891e-01, 1.95501761e-01, 1.25591933e-01,\n",
       "       8.40392912e-01, 7.32928941e-05, 7.00582945e-01, 1.61564141e-04,\n",
       "       2.70417261e-05])"
      ]
     },
     "execution_count": 114,
     "metadata": {},
     "output_type": "execute_result"
    }
   ],
   "source": [
    "y_test_hat"
   ]
  },
  {
   "cell_type": "code",
   "execution_count": 119,
   "metadata": {
    "ExecuteTime": {
     "end_time": "2018-08-28T02:26:12.021350Z",
     "start_time": "2018-08-28T02:26:12.013735Z"
    }
   },
   "outputs": [
    {
     "data": {
      "text/plain": [
       "0.9919786096256684"
      ]
     },
     "execution_count": 119,
     "metadata": {},
     "output_type": "execute_result"
    }
   ],
   "source": [
    "metrics.roc_auc_score(y_test, y_test_hat)"
   ]
  },
  {
   "cell_type": "code",
   "execution_count": 120,
   "metadata": {
    "ExecuteTime": {
     "end_time": "2018-08-28T02:26:14.181300Z",
     "start_time": "2018-08-28T02:26:14.174866Z"
    }
   },
   "outputs": [
    {
     "data": {
      "text/plain": [
       "{'C': 1.0,\n",
       " 'class_weight': None,\n",
       " 'dual': False,\n",
       " 'fit_intercept': True,\n",
       " 'intercept_scaling': 1,\n",
       " 'max_iter': 100,\n",
       " 'multi_class': 'ovr',\n",
       " 'n_jobs': 1,\n",
       " 'penalty': 'l2',\n",
       " 'random_state': None,\n",
       " 'solver': 'sag',\n",
       " 'tol': 0.0001,\n",
       " 'verbose': 0,\n",
       " 'warm_start': False}"
      ]
     },
     "execution_count": 120,
     "metadata": {},
     "output_type": "execute_result"
    }
   ],
   "source": [
    "lr.get_params()"
   ]
  },
  {
   "cell_type": "code",
   "execution_count": 116,
   "metadata": {
    "ExecuteTime": {
     "end_time": "2018-08-28T02:25:33.621098Z",
     "start_time": "2018-08-28T02:25:33.613493Z"
    }
   },
   "outputs": [
    {
     "data": {
      "text/plain": [
       "array([[-1.38138337, -1.02517207,  2.41212782,  1.97213783]])"
      ]
     },
     "execution_count": 116,
     "metadata": {},
     "output_type": "execute_result"
    }
   ],
   "source": [
    "lr.coef_"
   ]
  },
  {
   "cell_type": "code",
   "execution_count": 121,
   "metadata": {
    "ExecuteTime": {
     "end_time": "2018-08-28T02:26:16.726302Z",
     "start_time": "2018-08-28T02:26:16.720634Z"
    }
   },
   "outputs": [
    {
     "data": {
      "text/plain": [
       "array([-3.27811487])"
      ]
     },
     "execution_count": 121,
     "metadata": {},
     "output_type": "execute_result"
    }
   ],
   "source": [
    "lr.intercept_"
   ]
  },
  {
   "cell_type": "code",
   "execution_count": null,
   "metadata": {
    "collapsed": true
   },
   "outputs": [],
   "source": []
  }
 ],
 "metadata": {
  "kernelspec": {
   "display_name": "Python 3",
   "language": "python",
   "name": "python3"
  },
  "language_info": {
   "codemirror_mode": {
    "name": "ipython",
    "version": 3
   },
   "file_extension": ".py",
   "mimetype": "text/x-python",
   "name": "python",
   "nbconvert_exporter": "python",
   "pygments_lexer": "ipython3",
   "version": "3.6.3"
  },
  "toc": {
   "nav_menu": {},
   "number_sections": true,
   "sideBar": true,
   "skip_h1_title": false,
   "toc_cell": false,
   "toc_position": {},
   "toc_section_display": "block",
   "toc_window_display": false
  }
 },
 "nbformat": 4,
 "nbformat_minor": 2
}
