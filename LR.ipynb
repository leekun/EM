{
 "cells": [
  {
   "cell_type": "markdown",
   "metadata": {},
   "source": [
    "# LR 模型的实现"
   ]
  },
  {
   "cell_type": "code",
   "execution_count": 9,
   "metadata": {},
   "outputs": [],
   "source": [
    "import numpy as np\n",
    "import scipy \n",
    "import random"
   ]
  },
  {
   "cell_type": "code",
   "execution_count": 6,
   "metadata": {},
   "outputs": [
    {
     "data": {
      "text/plain": [
       "array([0.5       , 0.98201379, 0.99330715])"
      ]
     },
     "execution_count": 6,
     "metadata": {},
     "output_type": "execute_result"
    }
   ],
   "source": [
    "def sigmoid(x):\n",
    "    \n",
    "\n",
    "sigmoid(np.array([0, 4,5]))"
   ]
  },
  {
   "cell_type": "code",
   "execution_count": 21,
   "metadata": {},
   "outputs": [
    {
     "data": {
      "text/plain": [
       "(array([[0.33669245, 0.53688329, 0.57329556],\n",
       "        [0.31298957, 0.89297023, 0.07174797]]),\n",
       " array([1.4468713 , 1.27770777]))"
      ]
     },
     "execution_count": 21,
     "metadata": {},
     "output_type": "execute_result"
    }
   ],
   "source": [
    "a = np.random.random((2,3)) \n",
    "b = a\n",
    "a,np.sum(a, axis=1)\n",
    "#a+0\n",
    "#a*b,a, np.dot(a,b.T)"
   ]
  },
  {
   "cell_type": "code",
   "execution_count": 114,
   "metadata": {},
   "outputs": [],
   "source": [
    "class LR():\n",
    "    def __init__(self, lr = 0.01, L1=None, L2=None):\n",
    "        self.W = None\n",
    "        self.b = None\n",
    "        self.epsilon = 0.0001\n",
    "        self.L1_W = L1\n",
    "        self.L2_W = L2\n",
    "        self.X = None\n",
    "        self.y = None\n",
    "        self.y_hat = None\n",
    "        self.lr = lr\n",
    "        \n",
    "    def sigmoid(self, X):\n",
    "        return 1/(1 + np.exp(-X))\n",
    "    \n",
    "    \n",
    "    def _get_gred(self):\n",
    "        y_diff = self.y - self.y_hat\n",
    "        W_gred = np.sum(y_diff * self.X, axis=0)\n",
    "        b_gred = np.sum(y_diff)        \n",
    "        return W_gred, b_gred\n",
    "    \n",
    "    def _init_param(self):\n",
    "        self.W = np.random.random((self.X.shape[1],1)) \n",
    "        self.b = 0\n",
    "    \n",
    "    def fit(self, X, y):\n",
    "        # 初始化参数\n",
    "        self.X = X\n",
    "        self.y = y\n",
    "        self.y = self.y.reshape(y.shape[0],1)\n",
    "        self._init_param()\n",
    "        \n",
    "        #print(self.X.shape)\n",
    "        #print(self.W.shape)\n",
    "\n",
    "        wx_b = np.dot(self.X , self.W) + self. b # n*m m*1\n",
    "        #print(wx_b.shape,'wx')\n",
    "        self.y_hat = self.sigmoid(wx_b)\n",
    "        #print(self.y_hat.shape)\n",
    "        \n",
    "        W_gred, b_gred = self._get_gred()\n",
    "        while(max(W_gred) > self.epsilon): # 迭代\n",
    "            self.W = self.W  - self.lr * W_gred\n",
    "            self.b = self.b - self.lr * b_gred\n",
    "            #print('b2',self.b)\n",
    "            wx_b = np.dot(self.X , self.W) + self. b # n*m m*1\n",
    "            #print(wx_b.shape,'wx')\n",
    "\n",
    "            self.y_hat = self.sigmoid(wx_b)\n",
    "            \n",
    "            W_gred, b_gred = self._get_gred()\n",
    "        "
   ]
  },
  {
   "cell_type": "code",
   "execution_count": 115,
   "metadata": {},
   "outputs": [],
   "source": [
    "lr = LR()\n",
    "lr.fit(X_train, y_train)"
   ]
  },
  {
   "cell_type": "markdown",
   "metadata": {},
   "source": [
    "## 标准的结果"
   ]
  },
  {
   "cell_type": "code",
   "execution_count": 40,
   "metadata": {},
   "outputs": [
    {
     "data": {
      "text/plain": [
       "LogisticRegression(C=1.0, class_weight=None, dual=False, fit_intercept=True,\n",
       "          intercept_scaling=1, max_iter=100, multi_class='ovr', n_jobs=1,\n",
       "          penalty='l2', random_state=None, solver='liblinear', tol=0.0001,\n",
       "          verbose=0, warm_start=False)"
      ]
     },
     "execution_count": 40,
     "metadata": {},
     "output_type": "execute_result"
    }
   ],
   "source": [
    "from sklearn.datasets import load_iris\n",
    "iris=load_iris()\n",
    "X=iris.data\n",
    "y=iris.target\n",
    "y = y//2\n",
    "from sklearn.cross_validation import train_test_split\n",
    "X_train, X_test, y_train, y_test = train_test_split(X, y, test_size=0.3, random_state=0) \n",
    "from sklearn.linear_model import LogisticRegression\n",
    "lr = LogisticRegression()\n",
    "lr.fit(X_train, y_train)\n"
   ]
  },
  {
   "cell_type": "code",
   "execution_count": 41,
   "metadata": {},
   "outputs": [
    {
     "data": {
      "text/plain": [
       "array([[4.41459348e-02, 9.55854065e-01],\n",
       "       [8.80548636e-01, 1.19451364e-01],\n",
       "       [9.99988369e-01, 1.16312153e-05],\n",
       "       [1.07031153e-01, 8.92968847e-01],\n",
       "       [9.99912357e-01, 8.76425006e-05],\n",
       "       [1.78793744e-02, 9.82120626e-01],\n",
       "       [9.99941029e-01, 5.89713401e-05],\n",
       "       [8.24688831e-01, 1.75311169e-01],\n",
       "       [7.89553704e-01, 2.10446296e-01],\n",
       "       [9.06431875e-01, 9.35681248e-02],\n",
       "       [1.19346744e-01, 8.80653256e-01],\n",
       "       [8.38200035e-01, 1.61799965e-01],\n",
       "       [6.88956224e-01, 3.11043776e-01],\n",
       "       [7.50172366e-01, 2.49827634e-01],\n",
       "       [6.25160419e-01, 3.74839581e-01],\n",
       "       [9.99879244e-01, 1.20755658e-04],\n",
       "       [6.50818979e-01, 3.49181021e-01],\n",
       "       [5.68532507e-01, 4.31467493e-01],\n",
       "       [9.99811097e-01, 1.88903169e-04],\n",
       "       [9.99976951e-01, 2.30485427e-05],\n",
       "       [1.06588471e-01, 8.93411529e-01],\n",
       "       [5.18282353e-01, 4.81717647e-01],\n",
       "       [9.99681094e-01, 3.18906359e-04],\n",
       "       [9.99661004e-01, 3.38995707e-04],\n",
       "       [3.81513773e-01, 6.18486227e-01],\n",
       "       [9.99959266e-01, 4.07340837e-05],\n",
       "       [9.99819914e-01, 1.80085841e-04],\n",
       "       [8.62643125e-01, 1.37356875e-01],\n",
       "       [8.93137092e-01, 1.06862908e-01],\n",
       "       [9.99833562e-01, 1.66437809e-04],\n",
       "       [1.86751855e-01, 8.13248145e-01],\n",
       "       [4.35197915e-01, 5.64802085e-01],\n",
       "       [9.99944228e-01, 5.57717486e-05],\n",
       "       [3.42276702e-01, 6.57723298e-01],\n",
       "       [5.36972973e-02, 9.46302703e-01],\n",
       "       [6.65724512e-01, 3.34275488e-01],\n",
       "       [9.99966482e-01, 3.35183688e-05],\n",
       "       [2.22397310e-01, 7.77602690e-01],\n",
       "       [7.84559305e-01, 2.15440695e-01],\n",
       "       [8.50005903e-01, 1.49994097e-01],\n",
       "       [1.78775109e-01, 8.21224891e-01],\n",
       "       [9.99886549e-01, 1.13450861e-04],\n",
       "       [3.35490003e-01, 6.64509997e-01],\n",
       "       [9.99778969e-01, 2.21030577e-04],\n",
       "       [9.99968466e-01, 3.15340285e-05]])"
      ]
     },
     "execution_count": 41,
     "metadata": {},
     "output_type": "execute_result"
    }
   ],
   "source": [
    "lr.predict_proba(X_test) # 查看第一个测试样本属于各个类别的概率"
   ]
  },
  {
   "cell_type": "code",
   "execution_count": 29,
   "metadata": {},
   "outputs": [
    {
     "data": {
      "text/plain": [
       "((150, 4), (150,))"
      ]
     },
     "execution_count": 29,
     "metadata": {},
     "output_type": "execute_result"
    }
   ],
   "source": [
    "X.shape,y.shape"
   ]
  },
  {
   "cell_type": "code",
   "execution_count": 27,
   "metadata": {},
   "outputs": [
    {
     "data": {
      "text/plain": [
       "array([4.6, 3.1, 1.5, 0.2])"
      ]
     },
     "execution_count": 27,
     "metadata": {},
     "output_type": "execute_result"
    }
   ],
   "source": [
    "iris_data[3]"
   ]
  },
  {
   "cell_type": "code",
   "execution_count": 36,
   "metadata": {},
   "outputs": [
    {
     "data": {
      "text/plain": [
       "1"
      ]
     },
     "execution_count": 36,
     "metadata": {},
     "output_type": "execute_result"
    }
   ],
   "source": [
    "2//2\n"
   ]
  },
  {
   "cell_type": "code",
   "execution_count": null,
   "metadata": {},
   "outputs": [],
   "source": []
  }
 ],
 "metadata": {
  "kernelspec": {
   "display_name": "Python 3",
   "language": "python",
   "name": "python3"
  },
  "language_info": {
   "codemirror_mode": {
    "name": "ipython",
    "version": 3
   },
   "file_extension": ".py",
   "mimetype": "text/x-python",
   "name": "python",
   "nbconvert_exporter": "python",
   "pygments_lexer": "ipython3",
   "version": "3.5.1"
  }
 },
 "nbformat": 4,
 "nbformat_minor": 2
}
