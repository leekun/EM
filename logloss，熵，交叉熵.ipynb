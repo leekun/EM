{
 "cells": [
  {
   "cell_type": "markdown",
   "metadata": {},
   "source": [
    "# 逻辑回归\n",
    "\n",
    "** 定义**：\n",
    "    sigmoid函数：$$\\sigma(x)=\\frac{1}{1+e^{-x}} $$\n",
    "\n",
    "** 逻辑回归的最大似然： **\n",
    "$$MLP = \\prod_{i}P(y_i)$$\n",
    "\n",
    "** 对数似然函数为：** \n",
    "    $$log(MLP) = \\sum_{i}log(P(y_i))$$\n",
    "    \n",
    "## ** 当y标签信息为（1,0）** :\n",
    "$$P(y=1|x,w) = \\sigma(wx)$$\n",
    "    $$P(y=0|x,w) = 1-\\sigma(wx)$$\n",
    "对数似然就可以变为：$$log(MLP) = \\sum_{i} (y_i*log\\sigma(wx_i) + (1-y_i)log(1-\\sigma(wx_i))$$\n",
    "    \n",
    "## ** 当y标签为（1,-1）**:\n",
    "\n",
    "$$P(y=1|x,w) = \\sigma(wx) = \\sigma(y*wx)$$\n",
    "    $$P(y=-1|x,w) = 1-\\sigma(wx) = \\sigma(y*wx)$$\n",
    "对数似然就可以变为：$$log(MLP)  = \\sum_{i}log\\sigma(y_i*wx_i)$$\n"
   ]
  },
  {
   "cell_type": "markdown",
   "metadata": {},
   "source": [
    "# 熵，交叉熵，相对熵\n",
    "下面的总结还不错：\n",
    "https://mp.weixin.qq.com/s?__biz=MzI0ODcxODk5OA==&mid=2247495727&idx=2&sn=059cf6d0c6902a0b4d73f594face30c6\n",
    "\n",
    "补充一点：相对熵（KL散度） 不具有对称性。"
   ]
  },
  {
   "cell_type": "code",
   "execution_count": null,
   "metadata": {
    "collapsed": true
   },
   "outputs": [],
   "source": []
  }
 ],
 "metadata": {
  "kernelspec": {
   "display_name": "Python 3",
   "language": "python",
   "name": "python3"
  },
  "language_info": {
   "codemirror_mode": {
    "name": "ipython",
    "version": 3
   },
   "file_extension": ".py",
   "mimetype": "text/x-python",
   "name": "python",
   "nbconvert_exporter": "python",
   "pygments_lexer": "ipython3",
   "version": "3.6.3"
  },
  "toc": {
   "nav_menu": {},
   "number_sections": true,
   "sideBar": true,
   "skip_h1_title": false,
   "toc_cell": false,
   "toc_position": {},
   "toc_section_display": "block",
   "toc_window_display": false
  }
 },
 "nbformat": 4,
 "nbformat_minor": 2
}
