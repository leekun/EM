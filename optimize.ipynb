{
 "cells": [
  {
   "cell_type": "markdown",
   "metadata": {},
   "source": [
    "# lbfgs\n",
    "https://www.kancloud.cn/wizardforcel/scipy-lecture-notes/129875\n",
    "\n",
    "scipy: \n",
    "https://docs.scipy.org/doc/scipy/reference/optimize.html#scipy.optimize"
   ]
  },
  {
   "cell_type": "code",
   "execution_count": 3,
   "metadata": {
    "ExecuteTime": {
     "end_time": "2018-06-04T03:37:04.601133Z",
     "start_time": "2018-06-04T03:37:04.596851Z"
    },
    "collapsed": true
   },
   "outputs": [],
   "source": [
    "from scipy import optimize\n",
    "import numpy as np"
   ]
  },
  {
   "cell_type": "markdown",
   "metadata": {},
   "source": [
    "## lbfgs"
   ]
  },
  {
   "cell_type": "code",
   "execution_count": 7,
   "metadata": {
    "ExecuteTime": {
     "end_time": "2018-06-04T04:05:31.102084Z",
     "start_time": "2018-06-04T04:05:31.067923Z"
    }
   },
   "outputs": [
    {
     "data": {
      "text/plain": [
       "(array([1.00000005, 1.00000009]),\n",
       " 1.441767747301186e-15,\n",
       " {'funcalls': 17,\n",
       "  'grad': array([ 1.02331202e-07, -2.59299369e-08]),\n",
       "  'nit': 16,\n",
       "  'task': b'CONVERGENCE: NORM_OF_PROJECTED_GRADIENT_<=_PGTOL',\n",
       "  'warnflag': 0})"
      ]
     },
     "execution_count": 7,
     "metadata": {},
     "output_type": "execute_result"
    }
   ],
   "source": [
    "# 函数\n",
    "def f(x):   \n",
    "    return .5*(1 - x[0])**2 + (x[1] - x[0]**2)**2\n",
    "\n",
    "# 导数\n",
    "def fprime(x):\n",
    "    return np.array((-2*.5*(1 - x[0]) - 4*x[0]*(x[1] - x[0]**2), 2*(x[1] - x[0]**2)))\n",
    "\n",
    "optimize.fmin_l_bfgs_b(f, [2, 2], fprime=fprime) "
   ]
  },
  {
   "cell_type": "code",
   "execution_count": 14,
   "metadata": {
    "ExecuteTime": {
     "end_time": "2018-06-04T04:15:20.311686Z",
     "start_time": "2018-06-04T04:15:20.303547Z"
    }
   },
   "outputs": [
    {
     "data": {
      "text/plain": [
       "(array([0.99999999, 0.99999995]),\n",
       " 4.2827844938099003e-16,\n",
       " {'funcalls': 51,\n",
       "  'grad': array([ 1.02330285e-07, -2.59295945e-08]),\n",
       "  'nit': 16,\n",
       "  'task': b'CONVERGENCE: NORM_OF_PROJECTED_GRADIENT_<=_PGTOL',\n",
       "  'warnflag': 0})"
      ]
     },
     "execution_count": 14,
     "metadata": {},
     "output_type": "execute_result"
    }
   ],
   "source": [
    "# 不传入梯度函数，靠近似\n",
    "optimize.fmin_l_bfgs_b(f, [2, 2],fprime=None,approx_grad=True)"
   ]
  },
  {
   "cell_type": "code",
   "execution_count": null,
   "metadata": {
    "collapsed": true
   },
   "outputs": [],
   "source": []
  }
 ],
 "metadata": {
  "kernelspec": {
   "display_name": "Python 3",
   "language": "python",
   "name": "python3"
  },
  "language_info": {
   "codemirror_mode": {
    "name": "ipython",
    "version": 3
   },
   "file_extension": ".py",
   "mimetype": "text/x-python",
   "name": "python",
   "nbconvert_exporter": "python",
   "pygments_lexer": "ipython3",
   "version": "3.6.3"
  },
  "toc": {
   "nav_menu": {},
   "number_sections": true,
   "sideBar": true,
   "skip_h1_title": false,
   "toc_cell": false,
   "toc_position": {
    "height": "530px",
    "left": "0px",
    "right": "1129.01px",
    "top": "106px",
    "width": "115px"
   },
   "toc_section_display": "block",
   "toc_window_display": true
  }
 },
 "nbformat": 4,
 "nbformat_minor": 2
}
