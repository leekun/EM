{
 "cells": [
  {
   "cell_type": "markdown",
   "metadata": {},
   "source": [
    "# EM算法\n",
    " 参考1：根据 李航老师的《统计学习方法》 第九章EM算法的抛硬币的示例\n",
    " \n",
    " 参考2：http://www.cnblogs.com/mindpuzzle/p/3659444.html\n",
    " \n",
    " 参考3：http://lyd.ourblogs.me/2018/01/14/em-algorithm/\n",
    "        M步的公式，求解比较详细。可参考"
   ]
  },
  {
   "cell_type": "code",
   "execution_count": null,
   "metadata": {
    "ExecuteTime": {
     "end_time": "2018-05-08T10:32:25.242367Z",
     "start_time": "2018-05-08T10:32:25.231818Z"
    }
   },
   "outputs": [],
   "source": [
    "# E step 帮助函数\n",
    "# 计算Q函数， 根据pi, p ,q 和y 值。\n",
    "def P_y_z(y, pi,p):\n",
    "    # P(y,z|pi, p)\n",
    "    return pi * pow(p, y) * pow(1-p, 1-y)\n",
    "\n",
    "def P_y(y, pi, p, q):\n",
    "    # P(y|pi, p ,q) = P(y,z1|pi, p) + P(y,z2|1-pi, q)\n",
    "    return  P_y_z(y, pi, p) + P_y_z(y, 1-pi, q)\n",
    "    \n",
    "    # \n",
    "\n",
    "\n",
    "# 计算每一个Y条件下，两个z1,z2概率\n",
    "def Q_y_z1(y, pi, p, q):\n",
    "    # Qj(Z1) = P(yj,z1|0) / P(yj|0)\n",
    "    return P_y_z(y, pi, p) / P_y(y, pi, p, q)\n",
    "\n",
    "def Q_y_z2(y, pi, p, q):\n",
    "    # Qj(Z2) = P(yj,z2|0) / P(yj|0)\n",
    "    return P_y_z(y, 1-pi, q) / P_y(y, pi, p, q)"
   ]
  },
  {
   "cell_type": "code",
   "execution_count": 8,
   "metadata": {
    "ExecuteTime": {
     "end_time": "2018-05-08T10:32:26.452965Z",
     "start_time": "2018-05-08T10:32:26.441093Z"
    }
   },
   "outputs": [],
   "source": [
    "# M step 帮助函数。\n",
    "# 在M步的公式中，固定Qj(Z1)，Qj(Z2)两个已经得到的值，\n",
    "# 根据最大似然函数分别求导==0，推导出的新参数的迭代公式。 \n",
    "def max_pi(Q_z1_list,Q_z2_list):\n",
    "    s1 = sum(Q_z1_list)\n",
    "    s2 = sum(Q_z2_list)\n",
    "    return s1/(s1+s2)\n",
    "\n",
    "def max_p(y_list,Q_z1_list):\n",
    "    s = sum(Q_z1_list)\n",
    "    tmp = sum([_[0]*_[1] for _ in zip(y_list,Q_z1_list)])\n",
    "    return  tmp/s\n",
    "\n",
    "def max_q(y_list,Q_z2_list):\n",
    "    s = sum(Q_z2_list)\n",
    "    tmp = sum([_[0]*_[1] for _ in zip(y_list,Q_z2_list)])\n",
    "    return  tmp/s"
   ]
  },
  {
   "cell_type": "code",
   "execution_count": 29,
   "metadata": {
    "ExecuteTime": {
     "end_time": "2018-05-08T10:46:35.865517Z",
     "start_time": "2018-05-08T10:46:35.849163Z"
    }
   },
   "outputs": [],
   "source": [
    "def EM(y_list, pi=0.5, p=0.5, q=0.5, max_echo=5):\n",
    "    \n",
    "    echo = 0\n",
    "    while echo < max_echo:\n",
    "        # E step:计算Q函数\n",
    "        Q_z1_list = [Q_y_z1(_, pi, p, q) for _ in y_list]\n",
    "        Q_z2_list = [Q_y_z2(_, pi, p, q) for _ in y_list]\n",
    "        \n",
    "        #print Q_z1_list\n",
    "\n",
    "        # M step:\n",
    "        pi = max_pi(Q_z1_list,Q_z2_list)\n",
    "        p = max_p(y_list,Q_z1_list)\n",
    "        q = max_q(y_list,Q_z2_list)\n",
    "    \n",
    "        echo += 1\n",
    "        print pi, p, q\n",
    "        \n",
    "        # 判断迭代结束。 在这个题目下, 迭代一次就会收敛。\n",
    "    "
   ]
  },
  {
   "cell_type": "code",
   "execution_count": 32,
   "metadata": {
    "ExecuteTime": {
     "end_time": "2018-05-08T10:46:53.900865Z",
     "start_time": "2018-05-08T10:46:53.891044Z"
    }
   },
   "outputs": [
    {
     "name": "stdout",
     "output_type": "stream",
     "text": [
      "0.5 0.6 0.6\n",
      "0.5 0.6 0.6\n",
      "0.406417112299 0.536842105263 0.643243243243\n",
      "0.406417112299 0.536842105263 0.643243243243\n"
     ]
    }
   ],
   "source": [
    "y_list = [1,1,0,1,0,0,1,0,1,1]\n",
    "EM(y_list, 0.5, 0.5,0.5, 2)\n",
    "EM(y_list, 0.4, 0.6,0.7, 2)"
   ]
  },
  {
   "cell_type": "code",
   "execution_count": null,
   "metadata": {},
   "outputs": [],
   "source": []
  }
 ],
 "metadata": {
  "kernelspec": {
   "display_name": "Python 3",
   "language": "python",
   "name": "python3"
  },
  "language_info": {
   "codemirror_mode": {
    "name": "ipython",
    "version": 2
   },
   "file_extension": ".py",
   "mimetype": "text/x-python",
   "name": "python",
   "nbconvert_exporter": "python",
   "pygments_lexer": "ipython2",
   "version": "2.7.10"
  },
  "toc": {
   "nav_menu": {},
   "number_sections": true,
   "sideBar": true,
   "skip_h1_title": false,
   "toc_cell": false,
   "toc_position": {},
   "toc_section_display": "block",
   "toc_window_display": false
  }
 },
 "nbformat": 4,
 "nbformat_minor": 2
}
